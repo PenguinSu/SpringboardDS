{
 "cells": [
  {
   "cell_type": "markdown",
   "metadata": {},
   "source": [
    "This exercise will require you to pull some data from the Qunadl API. Qaundl is currently the most widely used aggregator of financial market data."
   ]
  },
  {
   "cell_type": "markdown",
   "metadata": {},
   "source": [
    "As a first step, you will need to register a free account on the http://www.quandl.com website."
   ]
  },
  {
   "cell_type": "markdown",
   "metadata": {},
   "source": [
    "After you register, you will be provided with a unique API key, that you should store:"
   ]
  },
  {
   "cell_type": "code",
   "execution_count": 1,
   "metadata": {},
   "outputs": [],
   "source": [
    "# Store the API key as a string - according to PEP8, constants are always named in all upper case\n",
    "API_KEY = "
   ]
  },
  {
   "cell_type": "markdown",
   "metadata": {},
   "source": [
    "Qaundl has a large number of data sources, but, unfortunately, most of them require a Premium subscription. Still, there are also a good number of free datasets."
   ]
  },
  {
   "cell_type": "markdown",
   "metadata": {},
   "source": [
    "For this mini project, we will focus on equities data from the Frankfurt Stock Exhange (FSE), which is available for free. We'll try and analyze the stock prices of a company called Carl Zeiss Meditec, which manufactures tools for eye examinations, as well as medical lasers for laser eye surgery: https://www.zeiss.com/meditec/int/home.html. The company is listed under the stock ticker AFX_X."
   ]
  },
  {
   "cell_type": "markdown",
   "metadata": {},
   "source": [
    "You can find the detailed Quandl API instructions here: https://docs.quandl.com/docs/time-series"
   ]
  },
  {
   "cell_type": "markdown",
   "metadata": {},
   "source": [
    "While there is a dedicated Python package for connecting to the Quandl API, we would prefer that you use the *requests* package, which can be easily downloaded using *pip* or *conda*. You can find the documentation for the package here: http://docs.python-requests.org/en/master/ "
   ]
  },
  {
   "cell_type": "markdown",
   "metadata": {},
   "source": [
    "Finally, apart from the *requests* package, you are encouraged to not use any third party Python packages, such as *pandas*, and instead focus on what's available in the Python Standard Library (the *collections* module might come in handy: https://pymotw.com/3/collections/).\n",
    "Also, since you won't have access to DataFrames, you are encouraged to us Python's native data structures - preferably dictionaries, though some questions can also be answered using lists.\n",
    "You can read more on these data structures here: https://docs.python.org/3/tutorial/datastructures.html"
   ]
  },
  {
   "cell_type": "markdown",
   "metadata": {},
   "source": [
    "Keep in mind that the JSON responses you will be getting from the API map almost one-to-one to Python's dictionaries. Unfortunately, they can be very nested, so make sure you read up on indexing dictionaries in the documentation provided above."
   ]
  },
  {
   "cell_type": "code",
   "execution_count": 2,
   "metadata": {},
   "outputs": [],
   "source": [
    "# First, import the relevant modules\n",
    "import requests\n",
    "import json"
   ]
  },
  {
   "cell_type": "code",
   "execution_count": 3,
   "metadata": {},
   "outputs": [],
   "source": [
    "# Now, call the Quandl API and pull out a small sample of the data (only one day) to get a glimpse\n",
    "# into the JSON structure that will be returned\n",
    "r = requests.get(\"https://www.quandl.com/api/v3/datasets/FSE/AFX_X/data.json?start_date='2018-10-05'&end_date='2018-10-05'&api_key=\"+API_KEY)"
   ]
  },
  {
   "cell_type": "code",
   "execution_count": 4,
   "metadata": {},
   "outputs": [
    {
     "name": "stdout",
     "output_type": "stream",
     "text": [
      "{\n",
      "  \"dataset_data\": {\n",
      "    \"column_names\": [\n",
      "      \"Date\", \n",
      "      \"Open\", \n",
      "      \"High\", \n",
      "      \"Low\", \n",
      "      \"Close\", \n",
      "      \"Change\", \n",
      "      \"Traded Volume\", \n",
      "      \"Turnover\", \n",
      "      \"Last Price of the Day\", \n",
      "      \"Daily Traded Units\", \n",
      "      \"Daily Turnover\"\n",
      "    ], \n",
      "    \"collapse\": null, \n",
      "    \"end_date\": \"2018-10-05\", \n",
      "    \"transform\": null, \n",
      "    \"order\": null, \n",
      "    \"frequency\": \"daily\", \n",
      "    \"limit\": null, \n",
      "    \"column_index\": null, \n",
      "    \"data\": [\n",
      "      [\n",
      "        \"2018-10-05\", \n",
      "        null, \n",
      "        71.7, \n",
      "        68.6, \n",
      "        69.6, \n",
      "        null, \n",
      "        195846.0, \n",
      "        13668103.0, \n",
      "        null, \n",
      "        null, \n",
      "        null\n",
      "      ]\n",
      "    ], \n",
      "    \"start_date\": \"2018-10-05\"\n",
      "  }\n",
      "}\n"
     ]
    }
   ],
   "source": [
    "# Inspect the JSON structure of the object you created, and take note of how nested it is,\n",
    "# as well as the overall structure\n",
    "response_d = r.json()\n",
    "print(json.dumps(response_d, indent=2))"
   ]
  },
  {
   "cell_type": "markdown",
   "metadata": {},
   "source": [
    "These are your tasks for this mini project:\n",
    "\n",
    "1. Collect data from the Franfurt Stock Exchange, for the ticker AFX_X, for the whole year 2017 (keep in mind that the date format is YYYY-MM-DD).\n",
    "2. Convert the returned JSON object into a Python dictionary.\n",
    "3. Calculate what the highest and lowest opening prices were for the stock in this period.\n",
    "4. What was the largest change in any one day (based on High and Low price)?\n",
    "5. What was the largest change between any two days (based on Closing Price)?\n",
    "6. What was the average daily trading volume during this year?\n",
    "7. (Optional) What was the median trading volume during this year. (Note: you may need to implement your own function for calculating the median.)"
   ]
  },
  {
   "cell_type": "markdown",
   "metadata": {
    "collapsed": true
   },
   "source": [
    "***\n",
    "## 1. Collect data from the Franfurt Stock Exchange, for the ticker AFX_X, for the whole year 2017 (keep in mind that the date format is YYYY-MM-DD)."
   ]
  },
  {
   "cell_type": "code",
   "execution_count": 5,
   "metadata": {
    "scrolled": true
   },
   "outputs": [],
   "source": [
    "r = requests.get(\"https://www.quandl.com/api/v3/datasets/FSE/AFX_X/data.json?start_date='2017-01-01'&end_date='2017-12-31'&api_key=\"+API_KEY)"
   ]
  },
  {
   "cell_type": "markdown",
   "metadata": {},
   "source": [
    "***\n",
    "## 2. Convert the returned JSON object into a Python dictionary."
   ]
  },
  {
   "cell_type": "code",
   "execution_count": 6,
   "metadata": {
    "scrolled": true
   },
   "outputs": [
    {
     "name": "stdout",
     "output_type": "stream",
     "text": [
      "<type 'dict'>\n"
     ]
    }
   ],
   "source": [
    "response = r.json()\n",
    "print(type(response))"
   ]
  },
  {
   "cell_type": "markdown",
   "metadata": {},
   "source": [
    "***\n",
    "## 3. Calculate what the highest and lowest opening prices were for the stock in this period."
   ]
  },
  {
   "cell_type": "code",
   "execution_count": 7,
   "metadata": {},
   "outputs": [
    {
     "name": "stdout",
     "output_type": "stream",
     "text": [
      "The hightest opening price is $53.11\n",
      "The lowest opening price is $34.0\n"
     ]
    }
   ],
   "source": [
    "# Create a function to get the index of a column\n",
    "def get_index(col_name):\n",
    "    return response['dataset_data']['column_names'].index(col_name)\n",
    "# Get data of the year\n",
    "data = response['dataset_data']['data']\n",
    "\n",
    "# Get the index of Open\n",
    "iOpen = get_index('Open')\n",
    "# Create an empty list\n",
    "open_price = []\n",
    "# Loop through data\n",
    "for entry in data:\n",
    "    # Append the opening price if it's not null\n",
    "    if(entry[iOpen] != None):\n",
    "        open_price.append(entry[iOpen])\n",
    "# Print the result\n",
    "print(\"The hightest opening price is $\" + str(max(open_price)))\n",
    "print(\"The lowest opening price is $\" + str(min(open_price)))"
   ]
  },
  {
   "cell_type": "markdown",
   "metadata": {},
   "source": [
    "***\n",
    "## 4. What was the largest change in any one day (based on High and Low price)?"
   ]
  },
  {
   "cell_type": "code",
   "execution_count": 8,
   "metadata": {},
   "outputs": [
    {
     "name": "stdout",
     "output_type": "stream",
     "text": [
      "The largest change in a day is $2.81\n"
     ]
    }
   ],
   "source": [
    "# Get the index of High and Low\n",
    "iHigh = get_index('High')\n",
    "iLow = get_index('Low')\n",
    "# Construct a list with daily difference\n",
    "price_diff = [entry[iHigh]-entry[iLow] for entry in data]\n",
    "# Print the largest change\n",
    "print(\"The largest change in a day is $\" + str(max(price_diff)))"
   ]
  },
  {
   "cell_type": "markdown",
   "metadata": {},
   "source": [
    "***\n",
    "## 5. What was the largest change between any two days (based on Closing Price)?"
   ]
  },
  {
   "cell_type": "code",
   "execution_count": 9,
   "metadata": {},
   "outputs": [
    {
     "name": "stdout",
     "output_type": "stream",
     "text": [
      "The largest change is between 2017-12-13 and 2017-01-23 with the amount of $19.03\n"
     ]
    }
   ],
   "source": [
    "# Get the index of Data and Close\n",
    "iDate = get_index('Date')\n",
    "iClose = get_index('Close')\n",
    "# Construct a list with the date and the closing price of the date\n",
    "close_price = [(entry[iClose],entry[iDate]) for entry in data]\n",
    "# Calulate the largest change between the maximum closing price and minimum closing price of the year \n",
    "largest_change = max(close_price)[0] - min(close_price)[0]\n",
    "# Print the result\n",
    "print(\"The largest change is between \" + max(close_price)[1] + \" and \" + min(close_price)[1] + \" with the amount of $\" + str(largest_change))"
   ]
  },
  {
   "cell_type": "markdown",
   "metadata": {},
   "source": [
    "***\n",
    "## 6. What was the average daily trading volume during this year?"
   ]
  },
  {
   "cell_type": "code",
   "execution_count": 10,
   "metadata": {},
   "outputs": [
    {
     "name": "stdout",
     "output_type": "stream",
     "text": [
      "The average trading volume during this year is 89124.3372549\n"
     ]
    }
   ],
   "source": [
    "# Get the index of Traded Volume\n",
    "iTrade = get_index('Traded Volume')\n",
    "# Construct a list with daily trading volume\n",
    "trade_volume = [entry[iTrade] for entry in data]\n",
    "# Print the average trading volume\n",
    "print(\"The average trading volume during this year is \" + str(sum(trade_volume)/len(trade_volume)))"
   ]
  },
  {
   "cell_type": "markdown",
   "metadata": {},
   "source": [
    "***\n",
    "## 7. (Optional) What was the median trading volume during this year. (Note: you may need to implement your own function for calculating the median.)"
   ]
  },
  {
   "cell_type": "code",
   "execution_count": 11,
   "metadata": {},
   "outputs": [
    {
     "name": "stdout",
     "output_type": "stream",
     "text": [
      "The median is 134965.0\n"
     ]
    }
   ],
   "source": [
    "# Create a function to find the median in a list\n",
    "def find_median(lst):\n",
    "    length = len(lst)\n",
    "    if length % 2 != 0:\n",
    "        return lst[length/2]\n",
    "    else:\n",
    "        middle1 = lst[(length/2)-1]\n",
    "        middle2 = lst[length/2]\n",
    "        return float((middle1 + middle2)/2)\n",
    "\n",
    "# Print the median value \n",
    "print(\"The median is \" + str(find_median(trade_volume)))"
   ]
  }
 ],
 "metadata": {
  "kernelspec": {
   "display_name": "Python 2",
   "language": "python",
   "name": "python2"
  },
  "language_info": {
   "codemirror_mode": {
    "name": "ipython",
    "version": 2
   },
   "file_extension": ".py",
   "mimetype": "text/x-python",
   "name": "python",
   "nbconvert_exporter": "python",
   "pygments_lexer": "ipython2",
   "version": "2.7.15"
  }
 },
 "nbformat": 4,
 "nbformat_minor": 2
}
