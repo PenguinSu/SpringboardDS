{
 "cells": [
  {
   "cell_type": "markdown",
   "metadata": {},
   "source": [
    "# What is the True Normal Human Body Temperature? \n",
    "\n",
    "#### Background\n",
    "\n",
    "The mean normal body temperature was held to be 37$^{\\circ}$C or 98.6$^{\\circ}$F for more than 120 years since it was first conceptualized and reported by Carl Wunderlich in a famous 1868 book. But, is this value statistically correct?"
   ]
  },
  {
   "cell_type": "markdown",
   "metadata": {},
   "source": [
    "<h3>Exercises</h3>\n",
    "\n",
    "<p>In this exercise, you will analyze a dataset of human body temperatures and employ the concepts of hypothesis testing, confidence intervals, and statistical significance.</p>\n",
    "\n",
    "<p>Answer the following questions <b>in this notebook below and submit to your Github account</b>.</p> \n",
    "\n",
    "<ol>\n",
    "<li>  Is the distribution of body temperatures normal? \n",
    "    <ul>\n",
    "    <li> Although this is not a requirement for the Central Limit Theorem to hold (read the introduction on Wikipedia's page about the CLT carefully: https://en.wikipedia.org/wiki/Central_limit_theorem), it gives us some peace of mind that the population may also be normally distributed if we assume that this sample is representative of the population.\n",
    "    <li> Think about the way you're going to check for the normality of the distribution. Graphical methods are usually used first, but there are also other ways: https://en.wikipedia.org/wiki/Normality_test\n",
    "    </ul>\n",
    "<li>  Is the sample size large? Are the observations independent?\n",
    "    <ul>\n",
    "    <li> Remember that this is a condition for the Central Limit Theorem, and hence the statistical tests we are using, to apply.\n",
    "    </ul>\n",
    "<li>  Is the true population mean really 98.6 degrees F?\n",
    "    <ul>\n",
    "    <li> First, try a bootstrap hypothesis test.\n",
    "    <li> Now, let's try frequentist statistical testing. Would you use a one-sample or two-sample test? Why?\n",
    "    <li> In this situation, is it appropriate to use the $t$ or $z$ statistic? \n",
    "    <li> Now try using the other test. How is the result be different? Why?\n",
    "    </ul>\n",
    "<li>  Draw a small sample of size 10 from the data and repeat both frequentist tests. \n",
    "    <ul>\n",
    "    <li> Which one is the correct one to use? \n",
    "    <li> What do you notice? What does this tell you about the difference in application of the $t$ and $z$ statistic?\n",
    "    </ul>\n",
    "<li>  At what temperature should we consider someone's temperature to be \"abnormal\"?\n",
    "    <ul>\n",
    "    <li> As in the previous example, try calculating everything using the boostrap approach, as well as the frequentist approach.\n",
    "    <li> Start by computing the margin of error and confidence interval. When calculating the confidence interval, keep in mind that you should use the appropriate formula for one draw, and not N draws.\n",
    "    </ul>\n",
    "<li>  Is there a significant difference between males and females in normal temperature?\n",
    "    <ul>\n",
    "    <li> What testing approach did you use and why?\n",
    "    <li> Write a story with your conclusion in the context of the original problem.\n",
    "    </ul>\n",
    "</ol>\n",
    "\n",
    "You can include written notes in notebook cells using Markdown: \n",
    "   - In the control panel at the top, choose Cell > Cell Type > Markdown\n",
    "   - Markdown syntax: http://nestacms.com/docs/creating-content/markdown-cheat-sheet\n",
    "\n",
    "#### Resources\n",
    "\n",
    "+ Information and data sources: http://www.amstat.org/publications/jse/datasets/normtemp.txt, http://www.amstat.org/publications/jse/jse_data_archive.htm\n",
    "+ Markdown syntax: http://nestacms.com/docs/creating-content/markdown-cheat-sheet\n",
    "\n",
    "****"
   ]
  },
  {
   "cell_type": "code",
   "execution_count": 1,
   "metadata": {},
   "outputs": [],
   "source": [
    "import pandas as pd\n",
    "import numpy as np\n",
    "import matplotlib.pyplot as plt\n",
    "import seaborn as sns\n",
    "import scipy.stats as stats\n",
    "from IPython.display import display, HTML\n",
    "\n",
    "df = pd.read_csv('data/human_body_temperature.csv')\n",
    "\n",
    "# Set default Seaborn style\n",
    "sns.set()\n",
    "\n",
    "# Global variable\n",
    "temperature = df['temperature']"
   ]
  },
  {
   "cell_type": "code",
   "execution_count": 2,
   "metadata": {},
   "outputs": [
    {
     "data": {
      "text/html": [
       "<div>\n",
       "<style scoped>\n",
       "    .dataframe tbody tr th:only-of-type {\n",
       "        vertical-align: middle;\n",
       "    }\n",
       "\n",
       "    .dataframe tbody tr th {\n",
       "        vertical-align: top;\n",
       "    }\n",
       "\n",
       "    .dataframe thead th {\n",
       "        text-align: right;\n",
       "    }\n",
       "</style>\n",
       "<table border=\"1\" class=\"dataframe\">\n",
       "  <thead>\n",
       "    <tr style=\"text-align: right;\">\n",
       "      <th></th>\n",
       "      <th>temperature</th>\n",
       "      <th>gender</th>\n",
       "      <th>heart_rate</th>\n",
       "    </tr>\n",
       "  </thead>\n",
       "  <tbody>\n",
       "    <tr>\n",
       "      <th>0</th>\n",
       "      <td>99.3</td>\n",
       "      <td>F</td>\n",
       "      <td>68.0</td>\n",
       "    </tr>\n",
       "    <tr>\n",
       "      <th>1</th>\n",
       "      <td>98.4</td>\n",
       "      <td>F</td>\n",
       "      <td>81.0</td>\n",
       "    </tr>\n",
       "    <tr>\n",
       "      <th>2</th>\n",
       "      <td>97.8</td>\n",
       "      <td>M</td>\n",
       "      <td>73.0</td>\n",
       "    </tr>\n",
       "    <tr>\n",
       "      <th>3</th>\n",
       "      <td>99.2</td>\n",
       "      <td>F</td>\n",
       "      <td>66.0</td>\n",
       "    </tr>\n",
       "    <tr>\n",
       "      <th>4</th>\n",
       "      <td>98.0</td>\n",
       "      <td>F</td>\n",
       "      <td>73.0</td>\n",
       "    </tr>\n",
       "  </tbody>\n",
       "</table>\n",
       "</div>"
      ],
      "text/plain": [
       "   temperature gender  heart_rate\n",
       "0         99.3      F        68.0\n",
       "1         98.4      F        81.0\n",
       "2         97.8      M        73.0\n",
       "3         99.2      F        66.0\n",
       "4         98.0      F        73.0"
      ]
     },
     "metadata": {},
     "output_type": "display_data"
    },
    {
     "name": "stdout",
     "output_type": "stream",
     "text": [
      "<class 'pandas.core.frame.DataFrame'>\n",
      "RangeIndex: 130 entries, 0 to 129\n",
      "Data columns (total 3 columns):\n",
      "temperature    130 non-null float64\n",
      "gender         130 non-null object\n",
      "heart_rate     130 non-null float64\n",
      "dtypes: float64(2), object(1)\n",
      "memory usage: 3.1+ KB\n"
     ]
    },
    {
     "data": {
      "text/html": [
       "<div>\n",
       "<style scoped>\n",
       "    .dataframe tbody tr th:only-of-type {\n",
       "        vertical-align: middle;\n",
       "    }\n",
       "\n",
       "    .dataframe tbody tr th {\n",
       "        vertical-align: top;\n",
       "    }\n",
       "\n",
       "    .dataframe thead th {\n",
       "        text-align: right;\n",
       "    }\n",
       "</style>\n",
       "<table border=\"1\" class=\"dataframe\">\n",
       "  <thead>\n",
       "    <tr style=\"text-align: right;\">\n",
       "      <th></th>\n",
       "      <th>temperature</th>\n",
       "      <th>heart_rate</th>\n",
       "    </tr>\n",
       "  </thead>\n",
       "  <tbody>\n",
       "    <tr>\n",
       "      <th>count</th>\n",
       "      <td>130.000000</td>\n",
       "      <td>130.000000</td>\n",
       "    </tr>\n",
       "    <tr>\n",
       "      <th>mean</th>\n",
       "      <td>98.249231</td>\n",
       "      <td>73.761538</td>\n",
       "    </tr>\n",
       "    <tr>\n",
       "      <th>std</th>\n",
       "      <td>0.733183</td>\n",
       "      <td>7.062077</td>\n",
       "    </tr>\n",
       "    <tr>\n",
       "      <th>min</th>\n",
       "      <td>96.300000</td>\n",
       "      <td>57.000000</td>\n",
       "    </tr>\n",
       "    <tr>\n",
       "      <th>25%</th>\n",
       "      <td>97.800000</td>\n",
       "      <td>69.000000</td>\n",
       "    </tr>\n",
       "    <tr>\n",
       "      <th>50%</th>\n",
       "      <td>98.300000</td>\n",
       "      <td>74.000000</td>\n",
       "    </tr>\n",
       "    <tr>\n",
       "      <th>75%</th>\n",
       "      <td>98.700000</td>\n",
       "      <td>79.000000</td>\n",
       "    </tr>\n",
       "    <tr>\n",
       "      <th>max</th>\n",
       "      <td>100.800000</td>\n",
       "      <td>89.000000</td>\n",
       "    </tr>\n",
       "  </tbody>\n",
       "</table>\n",
       "</div>"
      ],
      "text/plain": [
       "       temperature  heart_rate\n",
       "count   130.000000  130.000000\n",
       "mean     98.249231   73.761538\n",
       "std       0.733183    7.062077\n",
       "min      96.300000   57.000000\n",
       "25%      97.800000   69.000000\n",
       "50%      98.300000   74.000000\n",
       "75%      98.700000   79.000000\n",
       "max     100.800000   89.000000"
      ]
     },
     "metadata": {},
     "output_type": "display_data"
    }
   ],
   "source": [
    "# Observe dataset\n",
    "display(df.head())\n",
    "df.info()\n",
    "display(df.describe())"
   ]
  },
  {
   "cell_type": "markdown",
   "metadata": {
    "collapsed": true
   },
   "source": [
    "## 1. Is the distribution of body temperatures normal?"
   ]
  },
  {
   "cell_type": "code",
   "execution_count": 3,
   "metadata": {},
   "outputs": [
    {
     "data": {
      "image/png": "[encoded data removed]",
      "text/plain": [
       "<Figure size 432x288 with 1 Axes>"
      ]
     },
     "metadata": {
      "needs_background": "light"
     },
     "output_type": "display_data"
    }
   ],
   "source": [
    "# Get mean of temperature\n",
    "temperature_mean = temperature.mean()\n",
    "# Get the standard deviation of temperature\n",
    "temperature_std = temperature.std()\n",
    "\n",
    "# Plot histogram\n",
    "_ = temperature.plot.hist(density=1)\n",
    "_ = plt.xlabel('Temperature (F)')\n",
    "# Plot normal pdf with same mean and standard deviation\n",
    "_ = plt.plot(temperature, stats.norm.pdf(temperature,temperature_mean, temperature_std), marker='.', linestyle='none')\n",
    "plt.show()"
   ]
  },
  {
   "cell_type": "markdown",
   "metadata": {},
   "source": [
    "The histogram is roughly aligned with the normal distributed data, which was generated with the same mean and standard deviation. The distribution of body temperature seems normal. To further verify, we use ECDF and CDF."
   ]
  },
  {
   "cell_type": "code",
   "execution_count": 4,
   "metadata": {},
   "outputs": [
    {
     "data": {
      "image/png": "[encoded data removed]",
      "text/plain": [
       "<Figure size 432x288 with 1 Axes>"
      ]
     },
     "metadata": {
      "needs_background": "light"
     },
     "output_type": "display_data"
    }
   ],
   "source": [
    "# Create ECDF function\n",
    "def ecdf(data):\n",
    "    \"\"\"Compute ECDF for a one-dimensional array of measurements.\"\"\"\n",
    "    # Number of data points\n",
    "    n = len(data)\n",
    "\n",
    "    # x-data for the ECDF\n",
    "    x = np.sort(data)\n",
    "    \n",
    "    # y-data for the ECDF\n",
    "    y = np.arange(1, n+1) / n\n",
    "\n",
    "    return x, y\n",
    "\n",
    "# Get ECDF\n",
    "x, y = ecdf(df['temperature'])\n",
    "\n",
    "# Get CDF\n",
    "temperature_theor = np.random.normal(temperature_mean, temperature_std, size=1000)\n",
    "x_theor, y_theor = ecdf(temperature_theor)\n",
    "\n",
    "# Plot ECDF and CDF\n",
    "_ = plt.plot(x, y, marker='.', linestyle='none')\n",
    "_ = plt.plot(x_theor, y_theor, marker='.', linestyle='none')\n",
    "_ = plt.legend(('ecdf','cdf'),loc='lower right', facecolor='white')\n",
    "_ = plt.xlabel('Temperature (F)')\n",
    "plt.show()"
   ]
  },
  {
   "cell_type": "markdown",
   "metadata": {},
   "source": [
    "The ECDF and CDF in the graph are aligning, which imply the distribution of the temperature is normal."
   ]
  },
  {
   "cell_type": "markdown",
   "metadata": {},
   "source": [
    "## 2. Is the sample size large? Are the observations independent?"
   ]
  },
  {
   "cell_type": "markdown",
   "metadata": {},
   "source": [
    "According to the rule of CLT, the sample size larger than 30 is sufficiently large. Thus, sample size of 130 is large. Since each body is independent, the observations are independent."
   ]
  },
  {
   "cell_type": "markdown",
   "metadata": {},
   "source": [
    "## 3. Is the true population mean really 98.6 degrees F?"
   ]
  },
  {
   "cell_type": "markdown",
   "metadata": {},
   "source": [
    "First, try a bootstrap hypothesis test. The hypothesis is set up as following,<br>\n",
    "<br>\n",
    "$H_{0}$: The true mean of temperature is 98.6 $^\\circ$F.<br>\n",
    "$H_{A}$: The true mean of temperature is not 98.6 $^\\circ$F.<br>"
   ]
  },
  {
   "cell_type": "code",
   "execution_count": 5,
   "metadata": {},
   "outputs": [
    {
     "name": "stdout",
     "output_type": "stream",
     "text": [
      "p = 0.0\n"
     ]
    }
   ],
   "source": [
    "# Initialize array of replicates with size of 10,000\n",
    "bs_replicates = np.empty(10000)\n",
    "# Generate replicates\n",
    "for i in range(10000):\n",
    "    bs_sample = np.random.choice(temperature, size=len(temperature))\n",
    "    bs_replicates[i] = np.mean(bs_sample)\n",
    "# Compute the p-value\n",
    "p = np.sum(bs_replicates >= 98.6)/len(bs_replicates)\n",
    "# Print the p-value\n",
    "print('p =', p)"
   ]
  },
  {
   "cell_type": "markdown",
   "metadata": {},
   "source": [
    "The p-value is very low, which suggest the $H_{0}$ is false. The true mean of body temperature is not 98.6 $^\\circ$F. "
   ]
  },
  {
   "cell_type": "markdown",
   "metadata": {},
   "source": [
    "Next, we will try frequentist statistical testing. Since body temperature is a set of data, we will use a one-sample test. The data set has a size of 130, which is greater than 30, thus it's more appropriate to use z statistic in this situation. As we know the equation for z score is,"
   ]
  },
  {
   "cell_type": "markdown",
   "metadata": {},
   "source": [
    "$$z = \\frac{(\\bar{x}- \\mu_{\\bar{x}})}{\\sigma_{\\bar{x}}}$$"
   ]
  },
  {
   "cell_type": "markdown",
   "metadata": {},
   "source": [
    "We don't know the value of $\\sigma_{\\bar{x}}$, but we can calculate it with $\\sigma_{\\bar{x}} = \\frac{\\sigma}{\\sqrt{n}}$"
   ]
  },
  {
   "cell_type": "code",
   "execution_count": 7,
   "metadata": {},
   "outputs": [
    {
     "name": "stdout",
     "output_type": "stream",
     "text": [
      "z = -5.4548232923645195\n",
      "p = 4.9021570141012155e-08\n"
     ]
    }
   ],
   "source": [
    "# Calculate the sample standard deviation\n",
    "sigma = temperature_std/np.sqrt(len(temperature))\n",
    "# Calculate the z score\n",
    "z = (temperature_mean - 98.6)/sigma\n",
    "# Print the z score\n",
    "print('z =', z)\n",
    "# Calculate the p-value\n",
    "p = stats.norm.sf(abs(z))*2\n",
    "# Print the p-value\n",
    "print('p =', p)"
   ]
  },
  {
   "cell_type": "markdown",
   "metadata": {},
   "source": [
    "The p-value is very small, which indicate the $H_0$ is false. We will also try t statistic and compare the results."
   ]
  },
  {
   "cell_type": "code",
   "execution_count": 8,
   "metadata": {},
   "outputs": [
    {
     "name": "stdout",
     "output_type": "stream",
     "text": [
      "t = -5.4548232923645195\n",
      "p = 2.4106320415561276e-07\n"
     ]
    }
   ],
   "source": [
    "# The t score and z score should be about the same\n",
    "t = z\n",
    "# Print the t score\n",
    "print('t =', t)\n",
    "# Calculate the p-value\n",
    "p = stats.t.sf(abs(t), len(temperature)-1)*2\n",
    "# Print the p-value\n",
    "print('p =', p)"
   ]
  },
  {
   "cell_type": "markdown",
   "metadata": {},
   "source": [
    "The p-value from t statistic is different from the p-value from z statistic. However, both indicate the true mean of body temperature is not 98.6 $^\\circ$F"
   ]
  },
  {
   "cell_type": "markdown",
   "metadata": {},
   "source": [
    "## 4. Draw a small sample of size 10 from the data and repeat both frequentist tests. "
   ]
  },
  {
   "cell_type": "code",
   "execution_count": 9,
   "metadata": {},
   "outputs": [
    {
     "name": "stdout",
     "output_type": "stream",
     "text": [
      "t = -0.18136906252733798\n",
      "p = 0.8600967639268566\n",
      "z = -0.18136906252733798\n",
      "p = 0.8560779006665249\n"
     ]
    }
   ],
   "source": [
    "# Draw a small sample of size 10\n",
    "small_sample = np.random.choice(temperature, size=10)\n",
    "\n",
    "# Get the sample mean\n",
    "sm_mean = np.mean(small_sample)\n",
    "\n",
    "# Get the sample standard deviation\n",
    "sm_std = np.std(small_sample)\n",
    "\n",
    "# Perform t statistic test\n",
    "sigma = sm_std/np.sqrt(len(small_sample))\n",
    "t = (sm_mean - 98.6)/sigma\n",
    "# Print the t score\n",
    "print('t =', t)\n",
    "# Calculate the p-value\n",
    "p_t = stats.t.sf(abs(t), len(small_sample)-1)*2\n",
    "# Print the p-value\n",
    "print('p =', p_t)\n",
    "\n",
    "# Perform z statistic test\n",
    "z = t\n",
    "# Print the z score\n",
    "print('z =', z)\n",
    "# Calculate the p-value\n",
    "p_z = stats.norm.sf(abs(z))*2\n",
    "# Print the p-value\n",
    "print('p =', p_z)"
   ]
  },
  {
   "cell_type": "markdown",
   "metadata": {},
   "source": [
    "In the situation of sample size less than 30, t statistic test should be used. From the result, we can see two p-values are significantly different. This shows the importance of using the right statistic test."
   ]
  },
  {
   "cell_type": "markdown",
   "metadata": {},
   "source": [
    "## 5. At what temperature should we consider someone's temperature to be \"abnormal\"?"
   ]
  },
  {
   "cell_type": "markdown",
   "metadata": {},
   "source": [
    "We will start by computing the margin of error and confidence level. First, using the bootstrap approach. We will use the bootstrap replicates from previous."
   ]
  },
  {
   "cell_type": "code",
   "execution_count": 10,
   "metadata": {},
   "outputs": [
    {
     "name": "stdout",
     "output_type": "stream",
     "text": [
      "The 95% confidence level = [98.12307692 98.37769231]\n"
     ]
    }
   ],
   "source": [
    "# Calculate the confidence interval with 95% confidence\n",
    "conf_int = np.percentile(bs_replicates,[2.5,97.5])\n",
    "# Print the confidence level\n",
    "print('The 95% confidence level =', conf_int)"
   ]
  },
  {
   "cell_type": "code",
   "execution_count": 11,
   "metadata": {},
   "outputs": [
    {
     "data": {
      "image/png": "[encoded data removed]",
      "text/plain": [
       "<Figure size 432x288 with 1 Axes>"
      ]
     },
     "metadata": {
      "needs_background": "light"
     },
     "output_type": "display_data"
    }
   ],
   "source": [
    "# Plot graph to show 95% confidence interval\n",
    "_ = plt.hist(bs_replicates, bins=20)\n",
    "_ = plt.axvline(conf_int[0], color='g')\n",
    "_ = plt.axvline(conf_int[1], color='g')\n",
    "_ = plt.xlabel('Temperature (F)')\n",
    "_ = plt.ylabel('Count')\n",
    "_ = plt.legend(('98.12 F','98.38 F'),loc='upper right', facecolor='white', framealpha=1)\n",
    "plt.tight_layout()\n",
    "plt.show()"
   ]
  },
  {
   "cell_type": "markdown",
   "metadata": {},
   "source": [
    "The 95% confidence interval falls between 98.12 $^\\circ$F and 98.38 $^\\circ$F. Temperatures that are considered \"abnormal\" are the ones outside of this interval. "
   ]
  },
  {
   "cell_type": "markdown",
   "metadata": {},
   "source": [
    "Next, we will try the frequentist approach."
   ]
  },
  {
   "cell_type": "code",
   "execution_count": 12,
   "metadata": {},
   "outputs": [
    {
     "name": "stdout",
     "output_type": "stream",
     "text": [
      "The 95% CI is between  96.81219177947442 and 99.68626975898708\n"
     ]
    }
   ],
   "source": [
    "# Perform z statistic\n",
    "# Compute Margin of Error for 95% CI\n",
    "z = 1.96\n",
    "# Compute the 95% CI\n",
    "moe = 1.96*temperature_std\n",
    "lower = temperature_mean - moe\n",
    "upper = temperature_mean + moe\n",
    "print('The 95% CI is between ', lower, 'and', upper)"
   ]
  },
  {
   "cell_type": "markdown",
   "metadata": {},
   "source": [
    "From the z statistic, we get the 95% confidence interval is between 96.81 $^\\circ$F and 99.69 $^\\circ$F. The \"abnormal\" temperature would be outside of this interval."
   ]
  },
  {
   "cell_type": "markdown",
   "metadata": {},
   "source": [
    "## 6. Is there a significant difference between males and females in normal temperature?"
   ]
  },
  {
   "cell_type": "markdown",
   "metadata": {},
   "source": [
    "First, we explore and observe the temperature data of female and male."
   ]
  },
  {
   "cell_type": "code",
   "execution_count": 13,
   "metadata": {},
   "outputs": [
    {
     "name": "stdout",
     "output_type": "stream",
     "text": [
      "The mean of body temperature of male is  98.10461538461537\n",
      "The mean of body temperature of female is  98.39384615384614\n",
      "The difference of mean is  0.2892307692307696\n"
     ]
    },
    {
     "data": {
      "image/png": "[encoded data removed]",
      "text/plain": [
       "<Figure size 432x288 with 1 Axes>"
      ]
     },
     "metadata": {
      "needs_background": "light"
     },
     "output_type": "display_data"
    }
   ],
   "source": [
    "# Get temperature data of male and female\n",
    "temperature_m = df.loc[df['gender'] == 'M']['temperature']\n",
    "temperature_f = df.loc[df['gender'] == 'F']['temperature']\n",
    "\n",
    "# Calculate the mean of male and female\n",
    "print('The mean of body temperature of male is ', np.mean(temperature_m))\n",
    "print('The mean of body temperature of female is ', np.mean(temperature_f))\n",
    "diff_of_means = np.abs(np.mean(temperature_m) - np.mean(temperature_f))\n",
    "print('The difference of mean is ', diff_of_means)\n",
    "# Plot ECDF graph\n",
    "m_x, m_y = ecdf(temperature_m)\n",
    "f_x, f_y = ecdf(temperature_f)\n",
    "\n",
    "_ = plt.plot(m_x, m_y, marker='.', linestyle='none')\n",
    "_ = plt.plot(f_x, f_y, marker='.', linestyle='none')\n",
    "_ = plt.xlabel('Temperature (F)')\n",
    "_ = plt.ylabel('ECDF')\n",
    "_ = plt.legend(['Male', 'Female'])\n",
    "_ = plt.title('Male vs Female on Body Temperature')\n",
    "plt.show()"
   ]
  },
  {
   "cell_type": "markdown",
   "metadata": {},
   "source": [
    "The diffence between body temperature of males and females is small from the means and the graph. Since we are checking if male and female have identical temperature distribution, we will use permutation test if the difference is by chance. The hypothesis is constructed as the following,"
   ]
  },
  {
   "cell_type": "markdown",
   "metadata": {},
   "source": [
    "$H_0$: The distribution of temperature is the same between males and females.<br>\n",
    "$H_A$: The distribution of temperature is different between males and females."
   ]
  },
  {
   "cell_type": "code",
   "execution_count": 14,
   "metadata": {},
   "outputs": [
    {
     "name": "stdout",
     "output_type": "stream",
     "text": [
      "p = 0.0231\n"
     ]
    }
   ],
   "source": [
    "# Initialize an array for permutaion replicates\n",
    "perm_replicates = np.empty(10000)\n",
    "\n",
    "for i in range(10000):\n",
    "    # Generate permutation sample\n",
    "    # Concatenate the datasets\n",
    "    data = np.concatenate((temperature_m,temperature_f))\n",
    "    # Permute the concatenated array\n",
    "    permuted_data = np.random.permutation(data)\n",
    "    # Split the array into two parts\n",
    "    perm_m = permuted_data[:len(temperature_m)]\n",
    "    perm_f = permuted_data[len(temperature_m):]\n",
    "    # Compute the test statistics\n",
    "    perm_replicates[i] = np.abs(np.mean(perm_m) - np.mean(perm_f))\n",
    "    \n",
    "# Calcualte the p-value\n",
    "p = np.sum(perm_replicates >= diff_of_means)/len(perm_replicates)\n",
    "print('p =', p)"
   ]
  },
  {
   "cell_type": "markdown",
   "metadata": {},
   "source": [
    "The p-value is small enough to reject the null hypothesis. We can conclude that there's statistically significant difference between males and females in normal temperature."
   ]
  }
 ],
 "metadata": {
  "kernelspec": {
   "display_name": "Python 3",
   "language": "python",
   "name": "python3"
  },
  "language_info": {
   "codemirror_mode": {
    "name": "ipython",
    "version": 3
   },
   "file_extension": ".py",
   "mimetype": "text/x-python",
   "name": "python",
   "nbconvert_exporter": "python",
   "pygments_lexer": "ipython3",
   "version": "3.7.1"
  }
 },
 "nbformat": 4,
 "nbformat_minor": 1
}
