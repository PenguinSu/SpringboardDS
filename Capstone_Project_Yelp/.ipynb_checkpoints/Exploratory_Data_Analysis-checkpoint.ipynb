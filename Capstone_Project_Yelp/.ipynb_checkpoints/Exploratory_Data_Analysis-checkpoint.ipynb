{
 "cells": [
  {
   "cell_type": "code",
   "execution_count": 2,
   "metadata": {
    "collapsed": true
   },
   "outputs": [],
   "source": [
    "# Import packages\n",
    "%matplotlib inline \n",
    "\n",
    "import pandas as pd\n",
    "import numpy as np\n",
    "import seaborn as sns\n",
    "import matplotlib.pyplot as plt\n",
    "from scipy import stats\n",
    "from IPython.display import display, HTML\n",
    "\n",
    "# Set default Seaborn style\n",
    "sns.set()"
   ]
  },
  {
   "cell_type": "code",
   "execution_count": 3,
   "metadata": {
    "collapsed": true
   },
   "outputs": [],
   "source": [
    "# File path\n",
    "food_business_file = 'Dataset/food_business.csv'"
   ]
  },
  {
   "cell_type": "code",
   "execution_count": 4,
   "metadata": {
    "collapsed": true
   },
   "outputs": [],
   "source": [
    "# Read in data as DataFrame\n",
    "food_business = pd.read_csv(food_business_file)"
   ]
  },
  {
   "cell_type": "code",
   "execution_count": 5,
   "metadata": {
    "collapsed": false
   },
   "outputs": [
    {
     "name": "stdout",
     "output_type": "stream",
     "text": [
      "<class 'pandas.core.frame.DataFrame'>\n",
      "RangeIndex: 33289 entries, 0 to 33288\n",
      "Data columns (total 10 columns):\n",
      "business_id     33289 non-null object\n",
      "name            33289 non-null object\n",
      "attributes      32589 non-null object\n",
      "city            33289 non-null object\n",
      "state           33289 non-null object\n",
      "categories      33289 non-null object\n",
      "stars           33289 non-null float64\n",
      "review_count    33289 non-null int64\n",
      "postal_code     33199 non-null float64\n",
      "population      33289 non-null int64\n",
      "dtypes: float64(2), int64(2), object(6)\n",
      "memory usage: 2.5+ MB\n"
     ]
    },
    {
     "data": {
      "text/plain": [
       "None"
      ]
     },
     "metadata": {},
     "output_type": "display_data"
    }
   ],
   "source": [
    "# Overall info\n",
    "display(food_business.info())"
   ]
  },
  {
   "cell_type": "markdown",
   "metadata": {},
   "source": [
    "During story telling of the dataset, the scatter plot shows there is a slightly positive correlation between population and review count. To further confirm it wasn't happened by chance, I apply bootstrap permutation test on the Pearson correlation coefficient of the two variables. The hypothesis is set as the following,<br>\n",
    "$H_0$: There's no correlation between population and review count.<br>\n",
    "$H_A$: There is a correlation between population and review count."
   ]
  },
  {
   "cell_type": "code",
   "execution_count": 6,
   "metadata": {
    "collapsed": false
   },
   "outputs": [
    {
     "name": "stdout",
     "output_type": "stream",
     "text": [
      "The Pearson correlation coefficient = 0.098716\n"
     ]
    }
   ],
   "source": [
    "# Explore correlation between review counts and population\n",
    "review_counts = food_business.loc[:, 'review_count']\n",
    "population = food_business.loc[:, 'population']\n",
    "# Compute Pearson correlation coefficient\n",
    "pearson_r = np.corrcoef(review_counts, population)[0,1]\n",
    "print('The Pearson correlation coefficient = %f' %pearson_r)"
   ]
  },
  {
   "cell_type": "code",
   "execution_count": 7,
   "metadata": {
    "collapsed": false
   },
   "outputs": [
    {
     "name": "stdout",
     "output_type": "stream",
     "text": [
      "p = 0.000000\n"
     ]
    }
   ],
   "source": [
    "# Initialize an array for replicates\n",
    "perm_replicates = np.empty(10000)\n",
    "\n",
    "# Generate replicates\n",
    "for i in range(len(perm_replicates)):\n",
    "    # Permute number of discharges\n",
    "    review_counts_permuted = np.random.permutation(review_counts)\n",
    "    # Compute Pearson correlation\n",
    "    perm_replicates[i] = np.corrcoef(review_counts_permuted, population)[0,1]\n",
    "\n",
    "# Compute p-value\n",
    "p = np.sum(perm_replicates > pearson_r)/len(perm_replicates)\n",
    "print('p = %f' %p)"
   ]
  },
  {
   "cell_type": "markdown",
   "metadata": {},
   "source": [
    "The p-value is small enough to reject the null hypothesis. It implies that there is a positive correlation between population and review count. The Pearson correlation didn't happen by chance."
   ]
  },
  {
   "cell_type": "markdown",
   "metadata": {},
   "source": [
    "Next, I test if stars, review count and population are normal. I use normaltest from Scipy stats package to perform the testing."
   ]
  },
  {
   "cell_type": "code",
   "execution_count": 8,
   "metadata": {
    "collapsed": false
   },
   "outputs": [
    {
     "name": "stdout",
     "output_type": "stream",
     "text": [
      "k2 = 1219.070738\n",
      "p = 1.91493e-265\n"
     ]
    }
   ],
   "source": [
    "# Normal test on stars\n",
    "stars = food_business.loc[:, 'stars']\n",
    "stars_k2, stars_p = stats.normaltest(stars)\n",
    "print('k2 = %f' % stars_k2)\n",
    "print('p = {:g}'.format(stars_p))"
   ]
  },
  {
   "cell_type": "code",
   "execution_count": 9,
   "metadata": {
    "collapsed": false
   },
   "outputs": [
    {
     "name": "stdout",
     "output_type": "stream",
     "text": [
      "k2 = 56377.990556\n",
      "p = 0\n"
     ]
    }
   ],
   "source": [
    "# Normal test on review counts\n",
    "review_k2, review_p = stats.normaltest(review_counts)\n",
    "print('k2 = %f' % review_k2)\n",
    "print('p = {:g}'.format(review_p))"
   ]
  },
  {
   "cell_type": "code",
   "execution_count": 10,
   "metadata": {
    "collapsed": false
   },
   "outputs": [
    {
     "name": "stdout",
     "output_type": "stream",
     "text": [
      "k2 = 6067.607592\n",
      "p = 0\n"
     ]
    }
   ],
   "source": [
    "# Normal test on population\n",
    "population_k2, population_p = stats.normaltest(population)\n",
    "print('k2 = %f' % population_k2)\n",
    "print('p = {:g}'.format(population_p))"
   ]
  },
  {
   "cell_type": "markdown",
   "metadata": {},
   "source": [
    "The results show that only review counts and population are normal."
   ]
  },
  {
   "cell_type": "markdown",
   "metadata": {},
   "source": [
    "Part of the design of this model is using different size group to predict if the food business is good. Thus, I split the dataset into five groups based on population and apply further exploration on them. "
   ]
  },
  {
   "cell_type": "code",
   "execution_count": 11,
   "metadata": {
    "collapsed": false
   },
   "outputs": [
    {
     "name": "stdout",
     "output_type": "stream",
     "text": [
      "The population of first group is from 228 to 32297, with 6757 records\n",
      "The population of second group is from 32349 to 249950, with 7668 records\n",
      "The population of third group is from 253458 to 496401, with 6551 records\n",
      "The population of fourth group is from 611648 to 641676, with 5966 records\n",
      "The population of fifth group is from 859035 to 1626078, with 6347 records\n"
     ]
    }
   ],
   "source": [
    "# Split population to four groups \n",
    "first , second, third, fourth, fifth = np.percentile(population, [20,40,60,80,100])\n",
    "first_group = food_business.loc[food_business.population <= first]\n",
    "second_group = food_business.loc[(food_business.population > first) & (food_business.population <= second)]\n",
    "third_group = food_business.loc[(food_business.population > second) & (food_business.population <= third)]\n",
    "fourth_group = food_business.loc[(food_business.population > third) & (food_business.population <= fourth)]\n",
    "fifth_group = food_business.loc[(food_business.population > fourth) & (food_business.population <= fifth)]\n",
    "print('The population of first group is from %d to %d, with %d records' % (min(first_group.population), max(first_group.population), len(first_group)))\n",
    "print('The population of second group is from %d to %d, with %d records' % (min(second_group.population), max(second_group.population), len(second_group)))\n",
    "print('The population of third group is from %d to %d, with %d records' % (min(third_group.population), max(third_group.population), len(third_group)))\n",
    "print('The population of fourth group is from %d to %d, with %d records' % (min(fourth_group.population), max(fourth_group.population), len(fourth_group)))\n",
    "print('The population of fifth group is from %d to %d, with %d records' % (min(fifth_group.population), max(fifth_group.population), len(fifth_group)))"
   ]
  },
  {
   "cell_type": "code",
   "execution_count": 12,
   "metadata": {
    "collapsed": false
   },
   "outputs": [
    {
     "name": "stdout",
     "output_type": "stream",
     "text": [
      "Review count mean for each group:\n",
      "First group is 35.743525\n",
      "Second group is 75.790558\n",
      "Third group is 70.030072\n",
      "Fourth group is 167.533691\n",
      "Fifth group is 84.286435\n"
     ]
    }
   ],
   "source": [
    "# Get the mean of each group\n",
    "first_review_mean = np.mean(first_group.review_count)\n",
    "second_review_mean = np.mean(second_group.review_count)\n",
    "third_review_mean = np.mean(third_group.review_count)\n",
    "fourth_review_mean = np.mean(fourth_group.review_count)\n",
    "fifth_review_mean = np.mean(fifth_group.review_count)\n",
    "print('Review count mean for each group:')\n",
    "print('First group is %f' % first_review_mean)\n",
    "print('Second group is %f' % second_review_mean)\n",
    "print('Third group is %f' % third_review_mean)\n",
    "print('Fourth group is %f' % fourth_review_mean)\n",
    "print('Fifth group is %f' % fifth_review_mean)"
   ]
  },
  {
   "cell_type": "code",
   "execution_count": 13,
   "metadata": {
    "collapsed": false
   },
   "outputs": [
    {
     "name": "stdout",
     "output_type": "stream",
     "text": [
      "Review count standard deviation for each group:\n",
      "First group is 58.358020\n",
      "Second group is 134.881958\n",
      "Third group is 118.092453\n",
      "Fourth group is 376.340645\n",
      "Fifth group is 156.474360\n"
     ]
    }
   ],
   "source": [
    "# Get standard deviation of each group\n",
    "first_review_std = np.std(first_group.review_count)\n",
    "second_review_std = np.std(second_group.review_count)\n",
    "third_review_std = np.std(third_group.review_count)\n",
    "fourth_review_std = np.std(fourth_group.review_count)\n",
    "fifth_review_std = np.std(fifth_group.review_count)\n",
    "print('Review count standard deviation for each group:')\n",
    "print('First group is %f' % first_review_std)\n",
    "print('Second group is %f' % second_review_std)\n",
    "print('Third group is %f' % third_review_std)\n",
    "print('Fourth group is %f' % fourth_review_std)\n",
    "print('Fifth group is %f' % fifth_review_std)"
   ]
  },
  {
   "cell_type": "code",
   "execution_count": 14,
   "metadata": {
    "collapsed": false
   },
   "outputs": [
    {
     "name": "stdout",
     "output_type": "stream",
     "text": [
      "Review count median for each group:\n",
      "First group is 16.000000\n",
      "Second group is 28.000000\n",
      "Third group is 27.000000\n",
      "Fourth group is 47.000000\n",
      "Fifth group is 29.000000\n"
     ]
    }
   ],
   "source": [
    "# Get median of each group\n",
    "first_review_median = np.percentile(first_group.review_count, 50)\n",
    "second_review_median = np.percentile(second_group.review_count, 50)\n",
    "third_review_median = np.percentile(third_group.review_count, 50)\n",
    "fourth_review_median = np.percentile(fourth_group.review_count, 50)\n",
    "fifth_review_median = np.percentile(fifth_group.review_count, 50)\n",
    "print('Review count median for each group:')\n",
    "print('First group is %f' % first_review_median)\n",
    "print('Second group is %f' % second_review_median)\n",
    "print('Third group is %f' % third_review_median)\n",
    "print('Fourth group is %f' % fourth_review_median)\n",
    "print('Fifth group is %f' % fifth_review_median)"
   ]
  },
  {
   "cell_type": "markdown",
   "metadata": {},
   "source": [
    "As we can see from the results above, the fourth group has higher number than the other four groups. There could be noise in the fourth group that cause this. I decided to do a ECDF graph on all five groups to explore their similarity. "
   ]
  },
  {
   "cell_type": "code",
   "execution_count": 15,
   "metadata": {
    "collapsed": true
   },
   "outputs": [],
   "source": [
    "# Create ECDF function\n",
    "def ecdf(data):\n",
    "    \"\"\"Compute ECDF for a one-dimensional array of measurements.\"\"\"\n",
    "    # Number of data points\n",
    "    n = len(data)\n",
    "\n",
    "    # x-data for the ECDF\n",
    "    x = np.sort(data)\n",
    "    \n",
    "    # y-data for the ECDF\n",
    "    y = np.arange(1, n+1) / n\n",
    "\n",
    "    return x, y"
   ]
  },
  {
   "cell_type": "code",
   "execution_count": 22,
   "metadata": {
    "collapsed": false
   },
   "outputs": [
    {
     "data": {
      "image/png": "[encoded data removed]",
      "text/plain": [
       "<Figure size 600x400 with 1 Axes>"
      ]
     },
     "metadata": {},
     "output_type": "display_data"
    }
   ],
   "source": [
    "# Plot review count ECDF graphs for all five groups\n",
    "first_x, first_y = ecdf(first_group['review_count'])\n",
    "second_x, second_y = ecdf(second_group['review_count'])\n",
    "third_x, third_y = ecdf(third_group['review_count'])\n",
    "fourth_x, fourth_y = ecdf(fourth_group['review_count'])\n",
    "fifth_x, fifth_y = ecdf(fifth_group['review_count'])\n",
    "\n",
    "_ = plt.plot(first_x, first_y, marker='.', linestyle='none')\n",
    "_ = plt.plot(second_x, second_y, marker='.', linestyle='none')\n",
    "_ = plt.plot(third_x, third_y, marker='.', linestyle='none')\n",
    "_ = plt.plot(fourth_x, fourth_y, marker='.', linestyle='none')\n",
    "_ = plt.plot(fifth_x, fifth_y, marker='.', linestyle='none')\n",
    "_ = plt.legend(('First','Second','Third','Fourth','Fifth'), loc='right', facecolor='white')\n",
    "_ = plt.title('ECDF of Five Groups')\n",
    "_ = plt.xlabel('Review Count')"
   ]
  },
  {
   "cell_type": "code",
   "execution_count": 17,
   "metadata": {
    "collapsed": false
   },
   "outputs": [
    {
     "data": {
      "text/plain": [
       "state\n",
       "NV    1454\n",
       "Name: business_id, dtype: int64"
      ]
     },
     "metadata": {},
     "output_type": "display_data"
    }
   ],
   "source": [
    "# Look into group four data\n",
    "display(fourth_group.loc[fourth_group['review_count'] > fourth_review_mean].groupby('state').business_id.count())"
   ]
  },
  {
   "cell_type": "code",
   "execution_count": 18,
   "metadata": {
    "collapsed": false
   },
   "outputs": [
    {
     "data": {
      "text/plain": [
       "city\n",
       "Las Vegas    1454\n",
       "Name: business_id, dtype: int64"
      ]
     },
     "metadata": {},
     "output_type": "display_data"
    }
   ],
   "source": [
    "display(fourth_group.loc[fourth_group['review_count'] > fourth_review_mean].groupby('city').business_id.count())"
   ]
  },
  {
   "cell_type": "code",
   "execution_count": 19,
   "metadata": {
    "collapsed": false,
    "scrolled": false
   },
   "outputs": [
    {
     "data": {
      "text/plain": [
       "9        Beer, Wine & Spirits, Italian, Food, American ...\n",
       "42       American (New), Restaurants, Food, Breweries, ...\n",
       "44       Bars, American (Traditional), Nightlife, Resta...\n",
       "59       Restaurants, Bars, Nightlife, Caterers, Mexica...\n",
       "119                      Japanese, Sushi Bars, Restaurants\n",
       "182                                   Mexican, Restaurants\n",
       "246               Diners, Sandwiches, Restaurants, Burgers\n",
       "248                  Lounges, Bars, Dance Clubs, Nightlife\n",
       "275             Seafood, Restaurants, Mexican, Gluten-Free\n",
       "317                                     Pizza, Restaurants\n",
       "432                      Japanese, Sushi Bars, Restaurants\n",
       "441                  Restaurants, Bars, Nightlife, Italian\n",
       "605      Restaurants, Bars, Nightlife, American (New), ...\n",
       "623      Breakfast & Brunch, Bars, Food, American (New)...\n",
       "624      Event Planning & Services, Restaurants, Catere...\n",
       "645      Restaurants, Desserts, Bakeries, Food, Sandwiches\n",
       "675      Restaurants, Beer, Wine & Spirits, American (N...\n",
       "687                     Cajun/Creole, Restaurants, Seafood\n",
       "724                             Chinese, Restaurants, Thai\n",
       "727                             Food, Coffee & Tea, Donuts\n",
       "747      Translation Services, Nightlife, Lounges, Bars...\n",
       "752                             Bars, Tiki Bars, Nightlife\n",
       "773                      Sushi Bars, Restaurants, Japanese\n",
       "801      Chicken Wings, Restaurants, Sandwiches, Pizza,...\n",
       "817      Restaurants, Japanese, Sushi Bars, Izakaya, Ta...\n",
       "834      Barbeque, Southern, Bars, Restaurants, Nightli...\n",
       "908             Restaurants, Southern, Soul Food, Barbeque\n",
       "914      Event Planning & Services, Casinos, Food, Hote...\n",
       "924         Seafood, Hawaiian, American (New), Restaurants\n",
       "955            Italian, Delis, Bakeries, Food, Restaurants\n",
       "                               ...                        \n",
       "32733    Steakhouses, Nightlife, Wine Bars, Bars, Resta...\n",
       "32735    Food, Puerto Rican, Farmers Market, Restaurant...\n",
       "32741                             Bars, Lounges, Nightlife\n",
       "32742              Burgers, Salad, Restaurants, Vegetarian\n",
       "32770    Bars, Desserts, Nightlife, Food, Restaurants, ...\n",
       "32780                             Steakhouses, Restaurants\n",
       "32790       Arabian, Halal, Restaurants, Indian, Pakistani\n",
       "32868                                 Restaurants, Burgers\n",
       "32901               Food, Nightlife, Pubs, Bars, Breweries\n",
       "32915                Restaurants, Chinese, Malaysian, Thai\n",
       "32936    Diners, Burgers, American (Traditional), Break...\n",
       "32954      Restaurants, Cafes, Active Life, Swimming Pools\n",
       "32962    Hookah Bars, DJs, Lounges, Event Planning & Se...\n",
       "32963                 Adult Entertainment, Bars, Nightlife\n",
       "32964     Nightlife, Bars, Restaurants, Wine Bars, Italian\n",
       "32971    Steakhouses, Seafood, American (New), Restaurants\n",
       "32996                                 Buffets, Restaurants\n",
       "32997    American (New), Arts & Entertainment, Buffets,...\n",
       "33014    Arts & Entertainment, Music Venues, Nightlife,...\n",
       "33044    Pizza, Salad, American (New), Restaurants, Ame...\n",
       "33046                 American (New), Seafood, Restaurants\n",
       "33059                     Vegetarian, Mexican, Restaurants\n",
       "33076    American (New), Nightlife, Comfort Food, Bars,...\n",
       "33077    Swimming Pools, Bars, Lounges, Nightlife, Acti...\n",
       "33135    Restaurants, Bars, Nightlife, Chinese, Dance C...\n",
       "33136    Dim Sum, Hot Pot, Cantonese, Chinese, Restaurants\n",
       "33158                   Restaurants, Salad, Pizza, Italian\n",
       "33228    Vegan, Burgers, Vegetarian, Sandwiches, Restau...\n",
       "33260    Steakhouses, Seafood, Nightlife, American (New...\n",
       "33270    Casinos, Steakhouses, Bars, Nightlife, Restaur...\n",
       "Name: categories, Length: 1454, dtype: object"
      ]
     },
     "metadata": {},
     "output_type": "display_data"
    }
   ],
   "source": [
    "display(fourth_group.loc[fourth_group['review_count'] > fourth_review_mean].categories)"
   ]
  },
  {
   "cell_type": "code",
   "execution_count": 44,
   "metadata": {
    "collapsed": false,
    "scrolled": true
   },
   "outputs": [
    {
     "data": {
      "image/png": "[encoded data removed]",
      "text/plain": [
       "<Figure size 600x400 with 1 Axes>"
      ]
     },
     "metadata": {},
     "output_type": "display_data"
    }
   ],
   "source": [
    "# Plot NV data from each group based on city\n",
    "first_nv = first_group.loc[first_group['state'] == 'NV'].groupby('city').business_id.count()\n",
    "second_nv = second_group.loc[second_group['state'] == 'NV'].groupby('city').business_id.count()\n",
    "third_nv = third_group.loc[third_group['state'] == 'NV'].groupby('city').business_id.count()\n",
    "fourth_nv = fourth_group.loc[fourth_group['state'] == 'NV'].groupby('city').business_id.count()\n",
    "fifth_nv = fifth_group.loc[fifth_group['state'] == 'NV'].groupby('city').business_id.count()\n",
    "\n",
    "# Set a variable to count how many in each group\n",
    "total_cnt = 0\n",
    "labels = []\n",
    "position = 0\n",
    "\n",
    "ax = plt.subplot(111)\n",
    "if not first_nv.empty:\n",
    "    ax.bar(position, first_nv, color='g', width=0.25, label='Group1')\n",
    "    total_cnt += len(first_nv)\n",
    "    labels.append(first_nv.index[0])\n",
    "    position += 1\n",
    "if not second_nv.empty:\n",
    "    ax.bar(position, second_nv, color='r', width=0.25, label='Group2')\n",
    "    total_cnt += len(second_nv)\n",
    "    labels.append(second_nv.index[0])\n",
    "    position += 1\n",
    "if not third_nv.empty:\n",
    "    ax.bar(position, third_nv, color='b', width=0.25, label='Group3')\n",
    "    total_cnt += len(third_nv)\n",
    "    labels.append(third_nv.index[0])\n",
    "    position += 1\n",
    "if not fourth_nv.empty:\n",
    "    ax.bar(position, fourth_nv, color='y', width=0.25, label='Group4')\n",
    "    total_cnt += len(fourth_nv)\n",
    "    labels.append(fourth_nv.index[0])\n",
    "    position += 1\n",
    "if not fifth_nv.empty:\n",
    "    ax.bar(position, fifth_nv, color='purple', width=0.25, label='Group5')\n",
    "    total_cnt += len(fifth_nv)\n",
    "    labels.append(fifth_nv.index[0])\n",
    "    position += 1\n",
    "\n",
    "_ = plt.xticks(np.arange(total_cnt), labels)\n",
    "_ = plt.xlabel('City Name')\n",
    "_ = plt.ylabel('Number of Food Businesses')\n",
    "_ = plt.title('Food Businesses Distribution of Cities in Nevada')\n",
    "plt.legend(facecolor='w')\n",
    "plt.show()"
   ]
  },
  {
   "cell_type": "code",
   "execution_count": 37,
   "metadata": {
    "collapsed": false
   },
   "outputs": [
    {
     "name": "stdout",
     "output_type": "stream",
     "text": [
      "North Las Vegas 376\n",
      "Henderson 808\n",
      "Las Vegas 5965\n"
     ]
    }
   ],
   "source": [
    "# Find values of each city\n",
    "cities = food_business.loc[food_business['state'] == 'NV'].groupby('city').groups\n",
    "for city in sorted(cities, key=lambda city: len(cities[city])):\n",
    "    print('%s %d' %(city, len(cities[city])))"
   ]
  }
 ],
 "metadata": {
  "kernelspec": {
   "display_name": "Python 2",
   "language": "python",
   "name": "python2"
  },
  "language_info": {
   "codemirror_mode": {
    "name": "ipython",
    "version": 2
   },
   "file_extension": ".py",
   "mimetype": "text/x-python",
   "name": "python",
   "nbconvert_exporter": "python",
   "pygments_lexer": "ipython2",
   "version": "2.7.15"
  }
 },
 "nbformat": 4,
 "nbformat_minor": 0
}
