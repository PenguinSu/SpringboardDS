{
 "cells": [
  {
   "cell_type": "code",
   "execution_count": 1,
   "metadata": {
    "collapsed": true
   },
   "outputs": [],
   "source": [
    "# Import packages\n",
    "import pandas as pd\n",
    "import matplotlib.pyplot as plt\n",
    "from IPython.display import display, HTML"
   ]
  },
  {
   "cell_type": "code",
   "execution_count": 2,
   "metadata": {
    "collapsed": true
   },
   "outputs": [],
   "source": [
    "# File path\n",
    "food_business_file = 'Dataset/food_business.csv'"
   ]
  },
  {
   "cell_type": "code",
   "execution_count": 3,
   "metadata": {
    "collapsed": true
   },
   "outputs": [],
   "source": [
    "# Read in data as DataFrame\n",
    "food_business = pd.read_csv(food_business_file)"
   ]
  },
  {
   "cell_type": "code",
   "execution_count": 4,
   "metadata": {
    "collapsed": false
   },
   "outputs": [
    {
     "name": "stdout",
     "output_type": "stream",
     "text": [
      "<class 'pandas.core.frame.DataFrame'>\n",
      "RangeIndex: 33289 entries, 0 to 33288\n",
      "Data columns (total 10 columns):\n",
      "business_id     33289 non-null object\n",
      "name            33289 non-null object\n",
      "attributes      32589 non-null object\n",
      "city            33289 non-null object\n",
      "state           33289 non-null object\n",
      "categories      33289 non-null object\n",
      "stars           33289 non-null float64\n",
      "review_count    33289 non-null int64\n",
      "postal_code     33199 non-null float64\n",
      "population      33289 non-null int64\n",
      "dtypes: float64(2), int64(2), object(6)\n",
      "memory usage: 2.5+ MB\n"
     ]
    },
    {
     "data": {
      "text/plain": [
       "None"
      ]
     },
     "metadata": {},
     "output_type": "display_data"
    },
    {
     "data": {
      "text/html": [
       "<div>\n",
       "<style scoped>\n",
       "    .dataframe tbody tr th:only-of-type {\n",
       "        vertical-align: middle;\n",
       "    }\n",
       "\n",
       "    .dataframe tbody tr th {\n",
       "        vertical-align: top;\n",
       "    }\n",
       "\n",
       "    .dataframe thead th {\n",
       "        text-align: right;\n",
       "    }\n",
       "</style>\n",
       "<table border=\"1\" class=\"dataframe\">\n",
       "  <thead>\n",
       "    <tr style=\"text-align: right;\">\n",
       "      <th></th>\n",
       "      <th>stars</th>\n",
       "      <th>review_count</th>\n",
       "      <th>postal_code</th>\n",
       "      <th>population</th>\n",
       "    </tr>\n",
       "  </thead>\n",
       "  <tbody>\n",
       "    <tr>\n",
       "      <th>count</th>\n",
       "      <td>33289.000000</td>\n",
       "      <td>33289.000000</td>\n",
       "      <td>33199.000000</td>\n",
       "      <td>3.328900e+04</td>\n",
       "    </tr>\n",
       "    <tr>\n",
       "      <th>mean</th>\n",
       "      <td>3.509943</td>\n",
       "      <td>84.590105</td>\n",
       "      <td>62290.279195</td>\n",
       "      <td>4.716956e+05</td>\n",
       "    </tr>\n",
       "    <tr>\n",
       "      <th>std</th>\n",
       "      <td>0.868808</td>\n",
       "      <td>198.634857</td>\n",
       "      <td>27892.847155</td>\n",
       "      <td>4.865512e+05</td>\n",
       "    </tr>\n",
       "    <tr>\n",
       "      <th>min</th>\n",
       "      <td>1.000000</td>\n",
       "      <td>3.000000</td>\n",
       "      <td>12919.000000</td>\n",
       "      <td>2.280000e+02</td>\n",
       "    </tr>\n",
       "    <tr>\n",
       "      <th>25%</th>\n",
       "      <td>3.000000</td>\n",
       "      <td>9.000000</td>\n",
       "      <td>44012.000000</td>\n",
       "      <td>5.621200e+04</td>\n",
       "    </tr>\n",
       "    <tr>\n",
       "      <th>50%</th>\n",
       "      <td>3.500000</td>\n",
       "      <td>27.000000</td>\n",
       "      <td>85016.000000</td>\n",
       "      <td>3.024070e+05</td>\n",
       "    </tr>\n",
       "    <tr>\n",
       "      <th>75%</th>\n",
       "      <td>4.000000</td>\n",
       "      <td>81.000000</td>\n",
       "      <td>85326.000000</td>\n",
       "      <td>6.416760e+05</td>\n",
       "    </tr>\n",
       "    <tr>\n",
       "      <th>max</th>\n",
       "      <td>5.000000</td>\n",
       "      <td>7968.000000</td>\n",
       "      <td>97535.000000</td>\n",
       "      <td>1.626078e+06</td>\n",
       "    </tr>\n",
       "  </tbody>\n",
       "</table>\n",
       "</div>"
      ],
      "text/plain": [
       "              stars  review_count   postal_code    population\n",
       "count  33289.000000  33289.000000  33199.000000  3.328900e+04\n",
       "mean       3.509943     84.590105  62290.279195  4.716956e+05\n",
       "std        0.868808    198.634857  27892.847155  4.865512e+05\n",
       "min        1.000000      3.000000  12919.000000  2.280000e+02\n",
       "25%        3.000000      9.000000  44012.000000  5.621200e+04\n",
       "50%        3.500000     27.000000  85016.000000  3.024070e+05\n",
       "75%        4.000000     81.000000  85326.000000  6.416760e+05\n",
       "max        5.000000   7968.000000  97535.000000  1.626078e+06"
      ]
     },
     "metadata": {},
     "output_type": "display_data"
    }
   ],
   "source": [
    "display(food_business.info())\n",
    "display(food_business.describe())"
   ]
  },
  {
   "cell_type": "code",
   "execution_count": null,
   "metadata": {
    "collapsed": true
   },
   "outputs": [],
   "source": [
    "                                                      "
   ]
  }
 ],
 "metadata": {
  "kernelspec": {
   "display_name": "Python 2",
   "language": "python",
   "name": "python2"
  },
  "language_info": {
   "codemirror_mode": {
    "name": "ipython",
    "version": 2
   },
   "file_extension": ".py",
   "mimetype": "text/x-python",
   "name": "python",
   "nbconvert_exporter": "python",
   "pygments_lexer": "ipython2",
   "version": "2.7.11"
  }
 },
 "nbformat": 4,
 "nbformat_minor": 0
}
